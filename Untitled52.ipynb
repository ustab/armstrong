{
  "nbformat": 4,
  "nbformat_minor": 0,
  "metadata": {
    "colab": {
      "name": "Untitled52.ipynb",
      "provenance": [],
      "authorship_tag": "ABX9TyOwBXg1y7vxLBw/+4Lewir5"
    },
    "kernelspec": {
      "name": "python3",
      "display_name": "Python 3"
    },
    "language_info": {
      "name": "python"
    }
  },
  "cells": [
    {
      "cell_type": "code",
      "execution_count": 6,
      "metadata": {
        "colab": {
          "base_uri": "https://localhost:8080/",
          "height": 131
        },
        "id": "9pFHZGDVFOP5",
        "outputId": "a227c732-266f-433b-90ab-84430450c28b"
      },
      "outputs": [
        {
          "output_type": "error",
          "ename": "SyntaxError",
          "evalue": "ignored",
          "traceback": [
            "\u001b[0;36m  File \u001b[0;32m\"<ipython-input-6-1a138e919fd7>\"\u001b[0;36m, line \u001b[0;32m3\u001b[0m\n\u001b[0;31m    if (saved_amound > ps4_price):\u001b[0m\n\u001b[0m                                 ^\u001b[0m\n\u001b[0;31mSyntaxError\u001b[0m\u001b[0;31m:\u001b[0m invalid syntax\n"
          ]
        }
      ],
      "source": [
        " saved_amound=int(input(\" please enter your amount :\")\n",
        " \n",
        "  if (saved_amound > ps4_price): \n",
        "     print('you saved more than half. keep saving') \n",
        "  if (saved_amound >=ps4_price):\n",
        "     print(\"Yippee! You can buy your PS4\")\n"
      ]
    },
    {
      "cell_type": "code",
      "source": [
        "#The following code doesn't work properly, I want it to make a list to \n",
        "#a new list with no element appears more than twice.\n",
        "# For instance, modify l = [3, 3, 3, 5, 9] to [3, 3, 5, 9]. Here is my code:\n",
        "\n",
        "l = [3, 3,3, 3, 5,5,5,5,9,9,9 ,9]\n",
        "bl = []\n",
        "\n",
        "for i in l:\n",
        "    if l.count(i) >3:\n",
        "        l.remove(i)\n",
        "    else:\n",
        "        bl.append(i)\n",
        "print(l)\n",
        "print(bl)"
      ],
      "metadata": {
        "colab": {
          "base_uri": "https://localhost:8080/"
        },
        "id": "rk6382nHMaQL",
        "outputId": "f6042f88-9c5f-41a6-d374-1a5d81c9c7f2"
      },
      "execution_count": 20,
      "outputs": [
        {
          "output_type": "stream",
          "name": "stdout",
          "text": [
            "[3, 3, 3, 5, 5, 5, 9, 9, 9]\n",
            "[3, 3, 5, 5, 9, 9]\n"
          ]
        }
      ]
    },
    {
      "cell_type": "code",
      "source": [
        "ilk_kümem = len({1, 1, 2, 0, 1})\n",
        "ilk_kümem"
      ],
      "metadata": {
        "colab": {
          "base_uri": "https://localhost:8080/"
        },
        "id": "ZCWapGsYQjEq",
        "outputId": "5f194f49-702a-45a8-92bc-5a14653beb25"
      },
      "execution_count": 28,
      "outputs": [
        {
          "output_type": "execute_result",
          "data": {
            "text/plain": [
              "3"
            ]
          },
          "metadata": {},
          "execution_count": 28
        }
      ]
    },
    {
      "cell_type": "code",
      "source": [
        "ilk_kümem = len([1, 1, 2, 0, 1])\n",
        "ilk_kümem"
      ],
      "metadata": {
        "colab": {
          "base_uri": "https://localhost:8080/"
        },
        "id": "GJmdYJxzQwm3",
        "outputId": "282b156e-0a41-47ea-c69f-1103cfff927c"
      },
      "execution_count": 25,
      "outputs": [
        {
          "output_type": "execute_result",
          "data": {
            "text/plain": [
              "5"
            ]
          },
          "metadata": {},
          "execution_count": 25
        }
      ]
    },
    {
      "cell_type": "code",
      "source": [
        "şöyle_bişey = {1, \"1\", 1.0}"
      ],
      "metadata": {
        "id": "Hp-rF5W3URd6"
      },
      "execution_count": 30,
      "outputs": []
    },
    {
      "cell_type": "code",
      "source": [
        "1==1.0"
      ],
      "metadata": {
        "colab": {
          "base_uri": "https://localhost:8080/"
        },
        "id": "SdffWpySMbl4",
        "outputId": "094b81b9-9b74-47c6-c904-defb8a0c90a6"
      },
      "execution_count": 34,
      "outputs": [
        {
          "output_type": "execute_result",
          "data": {
            "text/plain": [
              "True"
            ]
          },
          "metadata": {},
          "execution_count": 34
        }
      ]
    },
    {
      "cell_type": "code",
      "source": [
        "given_list = [1, 2, 3, 4, 5]\n",
        "kümemiz = {given_list}  # "
      ],
      "metadata": {
        "colab": {
          "base_uri": "https://localhost:8080/",
          "height": 184
        },
        "id": "KUIhqdcVVB1F",
        "outputId": "ea8c4cdb-5911-465f-a087-603cae6b1068"
      },
      "execution_count": 35,
      "outputs": [
        {
          "output_type": "error",
          "ename": "TypeError",
          "evalue": "ignored",
          "traceback": [
            "\u001b[0;31m---------------------------------------------------------------------------\u001b[0m",
            "\u001b[0;31mTypeError\u001b[0m                                 Traceback (most recent call last)",
            "\u001b[0;32m<ipython-input-35-9062fef46cd9>\u001b[0m in \u001b[0;36m<module>\u001b[0;34m()\u001b[0m\n\u001b[1;32m      1\u001b[0m \u001b[0mgiven_list\u001b[0m \u001b[0;34m=\u001b[0m \u001b[0;34m[\u001b[0m\u001b[0;36m1\u001b[0m\u001b[0;34m,\u001b[0m \u001b[0;36m2\u001b[0m\u001b[0;34m,\u001b[0m \u001b[0;36m3\u001b[0m\u001b[0;34m,\u001b[0m \u001b[0;36m4\u001b[0m\u001b[0;34m,\u001b[0m \u001b[0;36m5\u001b[0m\u001b[0;34m]\u001b[0m\u001b[0;34m\u001b[0m\u001b[0;34m\u001b[0m\u001b[0m\n\u001b[0;32m----> 2\u001b[0;31m \u001b[0mkümemiz\u001b[0m \u001b[0;34m=\u001b[0m \u001b[0;34m{\u001b[0m\u001b[0mgiven_list\u001b[0m\u001b[0;34m}\u001b[0m  \u001b[0;31m#\u001b[0m\u001b[0;34m\u001b[0m\u001b[0;34m\u001b[0m\u001b[0m\n\u001b[0m",
            "\u001b[0;31mTypeError\u001b[0m: unhashable type: 'list'"
          ]
        }
      ]
    },
    {
      "cell_type": "code",
      "source": [
        "{[1, \"bir\"], \"ali\", \"deli\"}"
      ],
      "metadata": {
        "colab": {
          "base_uri": "https://localhost:8080/",
          "height": 166
        },
        "id": "1s7_Bey-VbBn",
        "outputId": "1459b731-839e-4ae7-bbf1-9cbd95bd0bb3"
      },
      "execution_count": 36,
      "outputs": [
        {
          "output_type": "error",
          "ename": "TypeError",
          "evalue": "ignored",
          "traceback": [
            "\u001b[0;31m---------------------------------------------------------------------------\u001b[0m",
            "\u001b[0;31mTypeError\u001b[0m                                 Traceback (most recent call last)",
            "\u001b[0;32m<ipython-input-36-7e779182a798>\u001b[0m in \u001b[0;36m<module>\u001b[0;34m()\u001b[0m\n\u001b[0;32m----> 1\u001b[0;31m \u001b[0;34m{\u001b[0m\u001b[0;34m[\u001b[0m\u001b[0;36m1\u001b[0m\u001b[0;34m,\u001b[0m \u001b[0;34m\"bir\"\u001b[0m\u001b[0;34m]\u001b[0m\u001b[0;34m,\u001b[0m \u001b[0;34m\"ali\"\u001b[0m\u001b[0;34m,\u001b[0m \u001b[0;34m\"deli\"\u001b[0m\u001b[0;34m}\u001b[0m\u001b[0;34m\u001b[0m\u001b[0;34m\u001b[0m\u001b[0m\n\u001b[0m",
            "\u001b[0;31mTypeError\u001b[0m: unhashable type: 'list'"
          ]
        }
      ]
    },
    {
      "cell_type": "code",
      "source": [
        "tuple_set = {1, 2, (3, 4)\n",
        "tuple_set"
      ],
      "metadata": {
        "colab": {
          "base_uri": "https://localhost:8080/",
          "height": 131
        },
        "id": "Szp8nxtTV5MZ",
        "outputId": "468ff199-4e62-429d-f9b7-c6f5fc5a1a8b"
      },
      "execution_count": 45,
      "outputs": [
        {
          "output_type": "error",
          "ename": "SyntaxError",
          "evalue": "ignored",
          "traceback": [
            "\u001b[0;36m  File \u001b[0;32m\"<ipython-input-45-7bc58ff24574>\"\u001b[0;36m, line \u001b[0;32m2\u001b[0m\n\u001b[0;31m    tuple_set\u001b[0m\n\u001b[0m            ^\u001b[0m\n\u001b[0;31mSyntaxError\u001b[0m\u001b[0;31m:\u001b[0m invalid syntax\n"
          ]
        }
      ]
    },
    {
      "cell_type": "code",
      "source": [
        "tuple_set = {1, 2, (3, 4)}\n",
        "tuple_set\n"
      ],
      "metadata": {
        "colab": {
          "base_uri": "https://localhost:8080/"
        },
        "id": "pQP2h51qW18S",
        "outputId": "6cb7be0f-fb04-4ebf-9572-8fb5195a554f"
      },
      "execution_count": 46,
      "outputs": [
        {
          "output_type": "execute_result",
          "data": {
            "text/plain": [
              "{(3, 4), 1, 2}"
            ]
          },
          "metadata": {},
          "execution_count": 46
        }
      ]
    },
    {
      "cell_type": "code",
      "source": [
        "a = {'carnation', 'orchid', 'rose', 'violet'} \n",
        "b = {'rose', 'orchid', 'rose', 'violet', 'carnation'}\n",
        "a.add(\"lily\")"
      ],
      "metadata": {
        "id": "LlVeWppZXBai"
      },
      "execution_count": 54,
      "outputs": []
    },
    {
      "cell_type": "code",
      "source": [
        "a = {'carnation', 'orchid', 'rose', 'violet'} \n",
        "b = {'rose', 'orchid', 'rose', 'violet', 'carnation'}\n",
        "a.add(\"lily\")"
      ],
      "metadata": {
        "id": "dFbjlrAXYVmd"
      },
      "execution_count": 56,
      "outputs": []
    },
    {
      "cell_type": "code",
      "source": [
        "a = 7\n",
        "b = 9\n",
        "c = 3\n",
        "  \n",
        "  \n",
        "if((a>b and a>c) and (a != b and a != c)):\n",
        "    print(a, \" is the largest\")\n",
        "elif((b>a and b>c) and (b != a and b != c)):\n",
        "    print(b, \" is the largest\")\n",
        "elif((c>a and c>b) and (c != a and c != b)):\n",
        "    print(c, \" is the largest\")\n",
        "else:\n",
        "    print(\"entered numbers are equal\")"
      ],
      "metadata": {
        "id": "rrAdY_18Ib3Y"
      },
      "execution_count": null,
      "outputs": []
    }
  ]
}