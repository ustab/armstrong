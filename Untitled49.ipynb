{
  "nbformat": 4,
  "nbformat_minor": 0,
  "metadata": {
    "colab": {
      "name": "Untitled49.ipynb",
      "provenance": [],
      "authorship_tag": "ABX9TyPfGFwtIpm7aam54HPn0lYJ"
    },
    "kernelspec": {
      "name": "python3",
      "display_name": "Python 3"
    },
    "language_info": {
      "name": "python"
    }
  },
  "cells": [
    {
      "cell_type": "code",
      "execution_count": null,
      "metadata": {
        "id": "GCLT4wKIFq3E"
      },
      "outputs": [],
      "source": [
        "flowers = [[\"jasmine\", [\"lavender\", \"rose\"], \"tulip\"]]\n",
        "colors = [\"red\", (\"blue\", [\"yellow\", \"green\"]), \"pink\"]\n",
        "\n",
        "text = \"My two favorite flowers are {} and {}, two favorite colors are {} and {}.\".format(flowers[0][2], flowers[0][1][1], colors[1][0], colors[1][1][1])"
      ]
    },
    {
      "cell_type": "code",
      "source": [
        "escapes = [\"\\n\\t\", (\"\\t\", \"\\t\\t\"), [\"\\n\", \"\\n\\t\\t\"]]\n",
        "\n",
        "sentence = \"I am 40 years old. {}I have two children. {}Data Science is my IT domain.\".format(escapes[0], escapes[2][1])\n",
        "\n",
        "print(sentence)"
      ],
      "metadata": {
        "id": "EzfxCRlNF7pa"
      },
      "execution_count": null,
      "outputs": []
    },
    {
      "cell_type": "code",
      "source": [
        "flowers = [[\"jasmine\", [\"lavender\", \"rose\"], \"tulip\"]]\n",
        "colors = [\"red\", (\"blue\", [\"yellow\", \"green\"]), \"pink\"]\n",
        "\n",
        "text = \"My two favorite flowers are {} and {}, two favorite colors are {} and {}.\".format(flowers[0][2], flowers[0][1][1], colors[1][0], colors[1][1][1])\n",
        "\n",
        "print(text)"
      ],
      "metadata": {
        "id": "nwVr-btpGHLa"
      },
      "execution_count": null,
      "outputs": []
    },
    {
      "cell_type": "code",
      "source": [
        "grocer = [\"banana\", [\"orange\", [\"apple\", \"eggplant\", \"melon\", \"spinach\", \"cheese\", \"leek\" ], \"water\"], \"mandarin\"]\n",
        "\n",
        "print(grocer[1][1][1:6:2])"
      ],
      "metadata": {
        "id": "xYRLykgtGP4s"
      },
      "execution_count": null,
      "outputs": []
    },
    {
      "cell_type": "code",
      "source": [
        "numbers = list(range(1, 11))\n",
        "\n",
        "numbers.sort(reverse = True)\n",
        "\n",
        "print(numbers)"
      ],
      "metadata": {
        "id": "nVF0byiPGZKd"
      },
      "execution_count": null,
      "outputs": []
    },
    {
      "cell_type": "markdown",
      "source": [
        "Create a list which consists of int numbers from 1 to 10 using range() function. Sort the numbers of the list in descending order and print the result.\n",
        "\n",
        "Select and print the vegetables from the following list using indexing and slicing methods. Note that, except from the given list (grocer), your program must consist of a single line of code.\n",
        "\n",
        "\n",
        "Considering the following flowers and colors lists, write the program using .format() and list indexing methods that will print out the text below.\n",
        "\n",
        "Re-arrange the sentence using the escape sequences from the list using .format() and list indexing methods to get the following output."
      ],
      "metadata": {
        "id": "k7nZwdFoGy2M"
      }
    }
  ]
}